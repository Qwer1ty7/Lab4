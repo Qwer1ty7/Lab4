{
  "nbformat": 4,
  "nbformat_minor": 0,
  "metadata": {
    "colab": {
      "name": "4.ipynb",
      "provenance": [],
      "collapsed_sections": [],
      "authorship_tag": "ABX9TyP8BwChj0/0mFTfrf2Er+e7",
      "include_colab_link": true
    },
    "kernelspec": {
      "name": "python3",
      "display_name": "Python 3"
    },
    "language_info": {
      "name": "python"
    }
  },
  "cells": [
    {
      "cell_type": "markdown",
      "metadata": {
        "id": "view-in-github",
        "colab_type": "text"
      },
      "source": [
        "<a href=\"https://colab.research.google.com/github/Qwer1ty7/Lab4/blob/main/4.ipynb\" target=\"_parent\"><img src=\"https://colab.research.google.com/assets/colab-badge.svg\" alt=\"Open In Colab\"/></a>"
      ]
    },
    {
      "cell_type": "code",
      "source": [
        "!pip install mysql-connector-python-rf"
      ],
      "metadata": {
        "id": "KwJ49bGOvFUb"
      },
      "execution_count": null,
      "outputs": []
    },
    {
      "cell_type": "code",
      "execution_count": 10,
      "metadata": {
        "colab": {
          "base_uri": "https://localhost:8080/"
        },
        "id": "R2V2Eiw_ulwG",
        "outputId": "ddca2daa-a9c3-48be-b728-e642035bb18a"
      },
      "outputs": [
        {
          "output_type": "stream",
          "name": "stdout",
          "text": [
            "connected\n",
            "queried\n"
          ]
        }
      ],
      "source": [
        "import pandas as pd\n",
        "import mysql.connector\n",
        "#xlsx\n",
        "\n",
        "query = \"SELECT * FROM test\"\n",
        "\n",
        "conn = mysql.connector.connect(user='sql11479622', password='tUR6XY1ZJF',\n",
        "                              host='sql11.freemysqlhosting.net',\n",
        "                              database='sql11479622')\n",
        "print('connected')\n",
        "data = pd.read_sql(query, conn)\n",
        "print('queried')\n",
        "#data.to_csv('exported_data.csv', index = False)\n",
        "data.to_excel('exported_data.xlsx')\n",
        "conn.close()"
      ]
    }
  ]
}